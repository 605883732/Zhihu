{
 "cells": [
  {
   "cell_type": "code",
   "execution_count": 1,
   "metadata": {
    "collapsed": true
   },
   "outputs": [],
   "source": [
    "import torch\n",
    "from utils import get_score, get_loss_weight\n",
    "result_dir='/home/dyj/'\n",
    "sigmoid = torch.sigmoid"
   ]
  },
  {
   "cell_type": "code",
   "execution_count": 2,
   "metadata": {
    "collapsed": true
   },
   "outputs": [],
   "source": [
    "label = torch.load('/home/dyj/label.pt')"
   ]
  },
  {
   "cell_type": "code",
   "execution_count": 3,
   "metadata": {
    "collapsed": true
   },
   "outputs": [],
   "source": [
    "cnn1 = torch.load('/home/dyj/TextCNN1_2017-07-27#10:15:20_res.pt')\n",
    "cnn1_loss_weight = torch.load(result_dir+'TextCNN1_loss_weight.pt')"
   ]
  },
  {
   "cell_type": "code",
   "execution_count": 4,
   "metadata": {
    "collapsed": true
   },
   "outputs": [],
   "source": [
    "rnn1 = torch.load('/home/dyj/RNN1_2017-07-27#10:48:05_res.pt')\n",
    "rnn1_loss_weight = torch.load(result_dir+'RNN1_loss_weight.pt')"
   ]
  },
  {
   "cell_type": "code",
   "execution_count": 5,
   "metadata": {
    "collapsed": true
   },
   "outputs": [],
   "source": [
    "rcnn1 = torch.load(result_dir + 'RCNN1_2017-07-27#11:01:07_res.pt')\n",
    "rcnn1_loss_weight = torch.load('/home/dyj/RCNN1_loss_weight.pt')"
   ]
  },
  {
   "cell_type": "code",
   "execution_count": 6,
   "metadata": {
    "collapsed": true
   },
   "outputs": [],
   "source": [
    "rcnncha = torch.load('/home/dyj/RCNNcha_2017-07-27#16:19:23_res.pt')\n",
    "rcnncha_loss_weight = torch.load(result_dir+'RCNNcha_loss_weight.pt')"
   ]
  },
  {
   "cell_type": "code",
   "execution_count": 7,
   "metadata": {
    "collapsed": true
   },
   "outputs": [],
   "source": [
    "fasttext4 = torch.load(result_dir + 'FastText4_2017-07-28#15:14:47_res.pt')\n",
    "fasttext4_loss_weight = torch.load('/home/dyj/FastText4_loss_weight.pt')"
   ]
  },
  {
   "cell_type": "code",
   "execution_count": 8,
   "metadata": {
    "collapsed": true
   },
   "outputs": [],
   "source": [
    "fasttext10 = torch.load('/home/dyj/FastText10_res.pt')\n",
    "fasttext10_loss_weight = torch.load('/home/dyj/FastText10_loss_weight.pt')"
   ]
  },
  {
   "cell_type": "code",
   "execution_count": null,
   "metadata": {
    "collapsed": true
   },
   "outputs": [],
   "source": [
    "rnn10 = torch.load('/home/dyj/RNN10_cal_res.pt')\n",
    "rnn10_loss_weight = torch.load('/home/dyj/RNN10_loss_weight.pt')"
   ]
  },
  {
   "cell_type": "code",
   "execution_count": 9,
   "metadata": {
    "collapsed": true
   },
   "outputs": [],
   "source": [
    "cnn3 = torch.load('/home/dyj/TextCNN3_res.pt')\n",
    "cnn3_loss_weight = torch.load('/home/dyj/TextCNN3_loss_weight.pt')"
   ]
  },
  {
   "cell_type": "code",
   "execution_count": 10,
   "metadata": {
    "collapsed": true
   },
   "outputs": [],
   "source": [
    "fasttext1_char = torch.load('snapshots/FastText/layer_1_cal_res_char.pt')\n",
    "fasttext1_loss_weight = torch.load('snapshots/FastText/layer_2_loss_weight_char.pt')"
   ]
  },
  {
   "cell_type": "code",
   "execution_count": null,
   "metadata": {
    "collapsed": true
   },
   "outputs": [],
   "source": [
    "rnn10_cnn2 = torch.load('snapshots/TextCNN/layer_12_cal_res_char.pt')\n",
    "rnn10_cnn2_loss_weight = torch.loasnapshots/snapshots/TextCNN/layer_13_loss_weight_char.pt')"
   ]
  },
  {
   "cell_type": "code",
   "execution_count": null,
   "metadata": {
    "collapsed": true
   },
   "outputs": [],
   "source": [
    "logit = sigmoid(cnn1) * torch.sqrt(1-cnn1_loss_weight+cnn1_loss_weight.mean()).expand_as(cnn1) * 0.0071 + \\\n",
    "        sigmoid(rnn1) * torch.sqrt(1-rnn1_loss_weight+rnn1_loss_weight.mean()).expand_as(rnn1) * 0.0224 + \\\n",
    "        sigmoid(rcnn1) * torch.sqrt(1-rcnn1_loss_weight+rcnn1_loss_weight.mean()).expand_as(rcnn1) * 0.0102 + \\\n",
    "        sigmoid(rcnncha) * torch.sqrt(1-rcnncha_loss_weight+rcnncha_loss_weight.mean()).expand_as(rcnncha) * 0.0210 + \\\n",
    "        sigmoid(fasttext1_char) * torch.sqrt(1-fasttext1_loss_weight+fasttext1_loss_weight.mean()).expand_as(fasttext1_char) * 0.0668 + \\\n",
    "        sigmoid(fasttext10/10) * torch.sqrt(1-fasttext10_loss_weight+fasttext10_loss_weight.mean()).expand_as(fasttext10) * 0.0533 + \\\n",
    "        sigmoid(rnn10_cnn2/12) * torch.sqrt(1-rnn10_cnn2_loss_weight+rnn10_cnn2_loss_weight.mean()).expand_as(rnn10_cnn2) * 0.5585 + \\\n",
    "        sigmoid(cnn3/3) * torch.sqrt(1-cnn3_loss_weight+cnn3_loss_weight.mean()).expand_as(cnn3) * 0.1564"
   ]
  },
  {
   "cell_type": "code",
   "execution_count": null,
   "metadata": {
    "collapsed": true
   },
   "outputs": [],
   "source": [
    "rnn10_cnn1_cnn1_char = torch.load('snapshots/TextCNN/layer_12_cal_res_3.pt')\n",
    "rnn10_cnn1_cnn1_char_loss_weight = torch.load('snapshots/TextCNN/layer_13_loss_weight_3.pt')"
   ]
  },
  {
   "cell_type": "code",
   "execution_count": null,
   "metadata": {
    "collapsed": true
   },
   "outputs": [],
   "source": [
    "rnn10_cnn1_char = torch.load('snapshots/TextCNN/layer_11_cal_res_char.pt')\n",
    "rnn10_cnn1_char_loss_weight = torch.load('snapshots/TextCNN/layer_12_loss_weight_char.pt')"
   ]
  },
  {
   "cell_type": "code",
   "execution_count": null,
   "metadata": {
    "collapsed": true
   },
   "outputs": [],
   "source": [
    "logit = sigmoid(rnn10_cnn1_cnn1_char/12) * torch.sqrt(1-rnn10_cnn1_cnn1_char_loss_weight+rnn10_cnn1_cnn1_char_loss_weight.mean()).expand_as(rnn10_cnn1_cnn1_char)"
   ]
  },
  {
   "cell_type": "code",
   "execution_count": null,
   "metadata": {},
   "outputs": [],
   "source": [
    "get_score(logit, label)"
   ]
  },
  {
   "cell_type": "code",
   "execution_count": null,
   "metadata": {},
   "outputs": [],
   "source": [
    "get_score(logit, label)"
   ]
  },
  {
   "cell_type": "code",
   "execution_count": null,
   "metadata": {
    "collapsed": true
   },
   "outputs": [],
   "source": [
    "logit = rnn10_cnn1_char"
   ]
  },
  {
   "cell_type": "code",
   "execution_count": null,
   "metadata": {},
   "outputs": [],
   "source": [
    "get_score(logit, label)"
   ]
  },
  {
   "cell_type": "code",
   "execution_count": null,
   "metadata": {},
   "outputs": [],
   "source": [
    "logit = (rnn10 / 10 * 3.5 + (rnn10_cnn1_char-rnn10))/4.5 * 11"
   ]
  },
  {
   "cell_type": "code",
   "execution_count": null,
   "metadata": {},
   "outputs": [],
   "source": [
    "get_score(logit, label)"
   ]
  },
  {
   "cell_type": "code",
   "execution_count": null,
   "metadata": {
    "collapsed": true
   },
   "outputs": [],
   "source": [
    "loss_weight = get_loss_weight(logit, label)"
   ]
  },
  {
   "cell_type": "code",
   "execution_count": null,
   "metadata": {
    "scrolled": true
   },
   "outputs": [],
   "source": [
    "get_score(sigmoid(logit/11)*torch.sqrt(1-rnn10_cnn1_char_loss_weight+rnn10_cnn1_char_loss_weight.mean()).expand_as(logit), label)"
   ]
  },
  {
   "cell_type": "code",
   "execution_count": null,
   "metadata": {},
   "outputs": [],
   "source": [
    "rnn_layer_9 = torch.load('snapshots/RNN/layer_9_cal_res_3.pt')"
   ]
  },
  {
   "cell_type": "code",
   "execution_count": null,
   "metadata": {
    "collapsed": true
   },
   "outputs": [],
   "source": [
    "logit = rnn_layer_9 * 0.5 + (rnn10-rnn_layer_9)"
   ]
  },
  {
   "cell_type": "code",
   "execution_count": null,
   "metadata": {},
   "outputs": [],
   "source": [
    "get_score(logit, label)"
   ]
  },
  {
   "cell_type": "code",
   "execution_count": null,
   "metadata": {
    "collapsed": true
   },
   "outputs": [],
   "source": [
    "layer_11 = torch.load('snapshots/TextCNN/layer_11_cal_res_char.pt')\n",
    "layer_12 = torch.load('snapshots/TextCNN/layer_12_cal_res_char.pt')"
   ]
  },
  {
   "cell_type": "code",
   "execution_count": null,
   "metadata": {
    "collapsed": true
   },
   "outputs": [],
   "source": [
    "layer_12_weighted = (layer_11 / 11 * 5.5 + (layer_12-layer_11)) / 6.5 * 12\n",
    "layer_12_loss_weight = get_loss_weight(layer_12_weighted, label)"
   ]
  },
  {
   "cell_type": "code",
   "execution_count": null,
   "metadata": {},
   "outputs": [],
   "source": [
    "print get_score(layer_12_weighted, label)\n",
    "get_score(sigmoid(layer_12_weighted/12) * torch.sqrt(1-layer_12_loss_weight+layer_12_loss_weight.mean()).expand_as(layer_12_weighted), label)"
   ]
  },
  {
   "cell_type": "code",
   "execution_count": null,
   "metadata": {
    "collapsed": true
   },
   "outputs": [],
   "source": [
    "torch.save(layer_12_weighted, 'snapshots/TextCNN/layer_12_weighted_cal_res_char.pt')\n",
    "torch.save(layer_12_loss_weight, 'snapshots/TextCNN/layer_13_weighted_loss_weight_char.pt')"
   ]
  },
  {
   "cell_type": "code",
   "execution_count": null,
   "metadata": {
    "collapsed": true
   },
   "outputs": [],
   "source": [
    "rnn10_test = torch.load(result_dir + 'RNN10_test_res.pt')\n",
    "cnn_char1 = torch.load('results/CNN_char_1_2017-08-04#22:51:48_test_res.pt')\n",
    "cnn_char2 = torch.load('results/CNN_char_2_2017-08-04#23:00:38_test_res.pt')\n",
    "torch.save(rnn10_test+cnn_char1+cnn_char2, 'results/RNN10_CNN2_test_res.pt')"
   ]
  }
 ],
 "metadata": {
  "kernelspec": {
   "display_name": "Python 2",
   "language": "python",
   "name": "python2"
  },
  "language_info": {
   "codemirror_mode": {
    "name": "ipython",
    "version": 2
   },
   "file_extension": ".py",
   "mimetype": "text/x-python",
   "name": "python",
   "nbconvert_exporter": "python",
   "pygments_lexer": "ipython2",
   "version": "2.7.12"
  }
 },
 "nbformat": 4,
 "nbformat_minor": 2
}

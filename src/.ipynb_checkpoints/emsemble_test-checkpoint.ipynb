{
 "cells": [
  {
   "cell_type": "code",
   "execution_count": null,
   "metadata": {
    "collapsed": true
   },
   "outputs": [],
   "source": [
    "import torch\n",
    "import numpy as np\n",
    "from utils import get_score, normalize\n",
    "result_dir='/home/dyj/'\n",
    "sigmoid = torch.sigmoid"
   ]
  },
  {
   "cell_type": "code",
   "execution_count": null,
   "metadata": {
    "collapsed": true
   },
   "outputs": [],
   "source": [
    "label = torch.load('/home/dyj/label.pt')"
   ]
  },
  {
   "cell_type": "code",
   "execution_count": null,
   "metadata": {
    "collapsed": true
   },
   "outputs": [],
   "source": [
    "# cnn1 = torch.load('/home/dyj/TextCNN1_2017-07-27#10:15:20_res.pt')\n",
    "# cnn1_loss_weight = torch.load(result_dir+'TextCNN1_loss_weight.pt')"
   ]
  },
  {
   "cell_type": "code",
   "execution_count": null,
   "metadata": {
    "collapsed": true
   },
   "outputs": [],
   "source": [
    "# rnn1 = torch.load('/home/dyj/RNN1_2017-07-27#10:48:05_res.pt')\n",
    "# rnn1_loss_weight = torch.load(result_dir+'RNN1_loss_weight.pt')"
   ]
  },
  {
   "cell_type": "code",
   "execution_count": null,
   "metadata": {
    "collapsed": true
   },
   "outputs": [],
   "source": [
    "# rcnn1 = torch.load(result_dir + 'RCNN1_2017-07-27#11:01:07_res.pt')\n",
    "# rcnn1_loss_weight = torch.load('/home/dyj/RCNN1_loss_weight.pt')"
   ]
  },
  {
   "cell_type": "code",
   "execution_count": null,
   "metadata": {
    "collapsed": true
   },
   "outputs": [],
   "source": [
    "# rcnncha = torch.load('/home/dyj/RCNNcha_2017-07-27#16:19:23_res.pt')\n",
    "# rcnncha_loss_weight = torch.load(result_dir+'RCNNcha_loss_weight.pt')"
   ]
  },
  {
   "cell_type": "code",
   "execution_count": null,
   "metadata": {
    "collapsed": true
   },
   "outputs": [],
   "source": [
    "# fasttext1_char = torch.load('snapshots/FastText/layer_1_cal_res_char.pt')\n",
    "# fasttext1_loss_weight = torch.load('snapshots/FastText/layer_2_loss_weight_char.pt')"
   ]
  },
  {
   "cell_type": "code",
   "execution_count": null,
   "metadata": {
    "collapsed": true
   },
   "outputs": [],
   "source": [
    "# fasttext4 = torch.load(result_dir + 'FastText4_2017-07-28#15:14:47_res.pt')\n",
    "# fasttext4_loss_weight = torch.load('/home/dyj/FastText4_loss_weight.pt')"
   ]
  },
  {
   "cell_type": "code",
   "execution_count": null,
   "metadata": {
    "collapsed": true
   },
   "outputs": [],
   "source": [
    "# fasttext10 = torch.load('/home/dyj/FastText10_res.pt')\n",
    "# fasttext10_loss_weight = torch.load('/home/dyj/FastText10_loss_weight.pt')"
   ]
  },
  {
   "cell_type": "code",
   "execution_count": null,
   "metadata": {
    "collapsed": true
   },
   "outputs": [],
   "source": [
    "# rnn10_cnn7 = torch.load('snapshots/TextCNN/layer_17_cal_res_3.pt')\n",
    "# rnn10_cnn7_loss_weight = torch.load('snapshots/TextCNN/layer_18_loss_weight_3.pt')"
   ]
  },
  {
   "cell_type": "code",
   "execution_count": null,
   "metadata": {
    "collapsed": true
   },
   "outputs": [],
   "source": [
    "# cnn4 = torch.load('snapshots/TextCNN/layer_4_cal_res_3.pt')\n",
    "# cnn4_loss_weight = torch.load('snapshots/TextCNN/layer_5_loss_weight_3.pt')"
   ]
  },
  {
   "cell_type": "code",
   "execution_count": null,
   "metadata": {
    "collapsed": true
   },
   "outputs": [],
   "source": [
    "def get_loss_weight(logit, label):\n",
    "    class_num = logit.size(1)\n",
    "    predict_label_list = [list(ii) for ii in logit.topk(5, 1)[1]]\n",
    "    marked_label_list = [list(np.where(ii.numpy()==1)[0]) for ii in label]\n",
    "    sample_per_class = torch.zeros(class_num)\n",
    "    error_per_class = torch.zeros(class_num)\n",
    "    for predict_labels, marked_labels in zip(predict_label_list, marked_label_list):\n",
    "        for true_label in marked_labels:\n",
    "            sample_per_class[true_label] += 1\n",
    "            if true_label not in predict_labels:\n",
    "                error_per_class[true_label] += 1\n",
    "    return error_per_class / sample_per_class"
   ]
  },
  {
   "cell_type": "code",
   "execution_count": null,
   "metadata": {
    "collapsed": true
   },
   "outputs": [],
   "source": [
    "rnn10 = torch.load(result_dir + 'RNN10_cal_res.pt')\n",
    "rnn10_loss_weight = torch.load('snapshots/RNN/layer_11_loss_weight_3.pt')"
   ]
  },
  {
   "cell_type": "code",
   "execution_count": null,
   "metadata": {
    "collapsed": true
   },
   "outputs": [],
   "source": [
    "logit1 = sigmoid(rnn10/10) * torch.sqrt(1-rnn10_loss_weight+rnn10_loss_weight.mean()).expand_as(rnn10)\n",
    "# get_score(logit1, label)\n",
    "# 0.42681"
   ]
  },
  {
   "cell_type": "code",
   "execution_count": null,
   "metadata": {
    "collapsed": true
   },
   "outputs": [],
   "source": [
    "# rnn10_cnn5 = torch.load('snapshots/TextCNN/layer_15_cal_res_char.pt')\n",
    "# cnn5_char = rnn10_cnn5 - rnn10\n",
    "# cnn5_char = torch.load(result_dir + 'TextCNN5_char_top5.pt')\n",
    "# cnn5_char_loss_weight = get_loss_weight(cnn5_char, label)"
   ]
  },
  {
   "cell_type": "code",
   "execution_count": null,
   "metadata": {
    "collapsed": true
   },
   "outputs": [],
   "source": [
    "# logit2 = sigmoid(cnn5_char/5) * torch.sqrt(1-cnn5_char_loss_weight+cnn5_char_loss_weight.mean()).expand_as(cnn5_char)\n",
    "# get_score(logit2, label)\n",
    "# 0.41667"
   ]
  },
  {
   "cell_type": "code",
   "execution_count": null,
   "metadata": {
    "collapsed": true
   },
   "outputs": [],
   "source": [
    "cnn7_char = torch.load(result_dir + 'TextCNN7_char_top5.pt')\n",
    "cnn7_char_loss_weight = get_loss_weight(cnn7_char, label)"
   ]
  },
  {
   "cell_type": "code",
   "execution_count": null,
   "metadata": {},
   "outputs": [],
   "source": [
    "logit2_ = sigmoid(cnn7_char/7) * torch.sqrt(1-cnn7_char_loss_weight+cnn7_char_loss_weight.mean()).expand_as(cnn7_char)\n",
    "# get_score(logit2_, label)\n",
    "# 0.41763"
   ]
  },
  {
   "cell_type": "code",
   "execution_count": null,
   "metadata": {
    "collapsed": true
   },
   "outputs": [],
   "source": [
    "cnn5_top1 = torch.load(result_dir + 'TextCNN5_word_top1.pt')\n",
    "cnn5_top1_loss_weight = get_loss_weight(cnn5_top1, label)"
   ]
  },
  {
   "cell_type": "code",
   "execution_count": null,
   "metadata": {
    "collapsed": true
   },
   "outputs": [],
   "source": [
    "logit3 = sigmoid(cnn5_top1/5) * torch.sqrt(1-cnn5_top1_loss_weight+cnn5_top1_loss_weight.mean()).expand_as(cnn5_top1)\n",
    "# get_score(logit3, label)\n",
    "# 0.42560"
   ]
  },
  {
   "cell_type": "code",
   "execution_count": null,
   "metadata": {
    "collapsed": true
   },
   "outputs": [],
   "source": [
    "cnn3_top1_char = torch.load(result_dir + 'TextCNN3_char_top1.pt')\n",
    "cnn3_top1_char_loss_weight = get_loss_weight(cnn1_top1_char, label)"
   ]
  },
  {
   "cell_type": "code",
   "execution_count": null,
   "metadata": {
    "collapsed": true
   },
   "outputs": [],
   "source": [
    "logit4 = sigmoid(cnn1_top1_char) * torch.sqrt(1-cnn1_top1_char_loss_weight+cnn1_top1_char_loss_weight.mean()).expand_as(cnn1_top1_char)\n",
    "# get_score(logit4, label)\n",
    "# 0.41479"
   ]
  },
  {
   "cell_type": "code",
   "execution_count": null,
   "metadata": {
    "collapsed": true
   },
   "outputs": [],
   "source": [
    "cnn4 = torch.load(result_dir + 'TextCNN4_cal_res.pt')\n",
    "cnn4_loss_weight = torch.load('snapshots/TextCNN/layer_5_loss_weight_3.pt')"
   ]
  },
  {
   "cell_type": "code",
   "execution_count": null,
   "metadata": {
    "collapsed": true
   },
   "outputs": [],
   "source": [
    "logit5 = sigmoid(cnn4/4) * torch.sqrt(1-cnn4_loss_weight+cnn4_loss_weight.mean()).expand_as(cnn4)\n",
    "# get_score(logit5, label)\n",
    "# 0.42331"
   ]
  },
  {
   "cell_type": "code",
   "execution_count": null,
   "metadata": {
    "collapsed": true
   },
   "outputs": [],
   "source": [
    "logit = "
   ]
  },
  {
   "cell_type": "code",
   "execution_count": null,
   "metadata": {
    "collapsed": true
   },
   "outputs": [],
   "source": [
    "%cd utils\n",
    "from resmat import search_model_weight"
   ]
  },
  {
   "cell_type": "code",
   "execution_count": null,
   "metadata": {
    "collapsed": true
   },
   "outputs": [],
   "source": [
    "models = [logit1, logit2, logit3, logit4, logit5]\n",
    "logit = torch.stack(models, 2)"
   ]
  },
  {
   "cell_type": "code",
   "execution_count": null,
   "metadata": {
    "collapsed": true
   },
   "outputs": [],
   "source": [
    "init_weight = torch.Tensor([0.4, 0.18, 0.22, 0.1, 0.1])"
   ]
  },
  {
   "cell_type": "code",
   "execution_count": null,
   "metadata": {
    "collapsed": true,
    "scrolled": true
   },
   "outputs": [],
   "source": [
    "cur_weight = torch.load('../snapshots/Stack/model_weight.pt')\n",
    "cur_weight"
   ]
  },
  {
   "cell_type": "code",
   "execution_count": null,
   "metadata": {
    "collapsed": true
   },
   "outputs": [],
   "source": [
    "search_model_weight(logit, label, init_weight, 10, 0.001, '../snapshots/Stack/model_weight.pt')"
   ]
  },
  {
   "cell_type": "code",
   "execution_count": null,
   "metadata": {
    "collapsed": true
   },
   "outputs": [],
   "source": [
    "layer_11 = torch.load('snapshots/TextCNN/layer_11_cal_res_char.pt')\n",
    "layer_12 = torch.load('snapshots/TextCNN/layer_12_cal_res_char.pt')"
   ]
  },
  {
   "cell_type": "code",
   "execution_count": null,
   "metadata": {
    "collapsed": true
   },
   "outputs": [],
   "source": [
    "layer_12_weighted = (layer_11 / 11 * 5.5 + (layer_12-layer_11)) / 6.5 * 12\n",
    "layer_12_loss_weight = get_loss_weight(layer_12_weighted, label)"
   ]
  },
  {
   "cell_type": "code",
   "execution_count": null,
   "metadata": {
    "collapsed": true
   },
   "outputs": [],
   "source": [
    "print get_score(layer_12_weighted, label)\n",
    "get_score(sigmoid(layer_12_weighted/12) * torch.sqrt(1-layer_12_loss_weight+layer_12_loss_weight.mean()).expand_as(layer_12_weighted), label)"
   ]
  },
  {
   "cell_type": "code",
   "execution_count": null,
   "metadata": {
    "collapsed": true
   },
   "outputs": [],
   "source": [
    "torch.save(layer_12_weighted, 'snapshots/TextCNN/layer_12_weighted_cal_res_char.pt')\n",
    "torch.save(layer_12_loss_weight, 'snapshots/TextCNN/layer_13_weighted_loss_weight_char.pt')"
   ]
  },
  {
   "cell_type": "code",
   "execution_count": null,
   "metadata": {
    "collapsed": true
   },
   "outputs": [],
   "source": [
    "rnn_cnn2_test = torch.load('results/RNN10_CNN2_test_res.pt')\n",
    "cnn3_test = torch.load('results/CNN3_2017-08-07#12:41:45_test_res.pt')\n",
    "cnn2_test = torch.load('results/CNN2_2017-08-07#12:53:50_test_res.pt')\n",
    "torch.save(rnn_cnn2_test+cnn3_test+cnn2_test, '/home/dyj/RNN10_CNN7_test_res.pt')\n",
    "torch.save(rnn_cnn2_test+cnn3_test+cnn2_test, 'results/RNN10_CNN7_test_res.pt')"
   ]
  },
  {
   "cell_type": "code",
   "execution_count": null,
   "metadata": {
    "collapsed": true
   },
   "outputs": [],
   "source": [
    "logit = sigmoid(cnn1) * torch.sqrt(1-cnn1_loss_weight+cnn1_loss_weight.mean()).expand_as(cnn1) * 0 + \\\n",
    "        sigmoid(rnn1) * torch.sqrt(1-rnn1_loss_weight+rnn1_loss_weight.mean()).expand_as(rnn1) * 0. + \\\n",
    "        sigmoid(rcnn1) * torch.sqrt(1-rcnn1_loss_weight+rcnn1_loss_weight.mean()).expand_as(rcnn1) * 0 + \\\n",
    "        sigmoid(rcnncha) * torch.sqrt(1-rcnncha_loss_weight+rcnncha_loss_weight.mean()).expand_as(rcnncha) * 0 + \\\n",
    "        sigmoid(fasttext1_char) * torch.sqrt(1-fasttext1_loss_weight+fasttext1_loss_weight.mean()).expand_as(fasttext1_char) * 0 + \\\n",
    "        sigmoid(fasttext4/4) * torch.sqrt(1-fasttext4_loss_weight+fasttext4_loss_weight.mean()).expand_as(fasttext4) * 0 + \\\n",
    "        sigmoid(fasttext10/10) * torch.sqrt(1-fasttext10_loss_weight+fasttext10_loss_weight.mean()).expand_as(fasttext10) * 0.0469 + \\\n",
    "        sigmoid(rnn10_cnn7/17) * torch.sqrt(1-rnn10_cnn7_loss_weight+rnn10_cnn7_loss_weight.mean()).expand_as(rnn10_cnn7) * 0.6604 + \\\n",
    "        sigmoid(cnn4/4) * torch.sqrt(1-cnn4_loss_weight+cnn4_loss_weight.mean()).expand_as(cnn4) * 0.1536"
   ]
  },
  {
   "cell_type": "code",
   "execution_count": null,
   "metadata": {
    "collapsed": true
   },
   "outputs": [],
   "source": [
    "get_loss_weight??\n",
    "rnn10_cnn8_loss_weight_new = get_loss_weight(rnn10_cnn8, label)"
   ]
  },
  {
   "cell_type": "code",
   "execution_count": null,
   "metadata": {
    "collapsed": true
   },
   "outputs": [],
   "source": [
    "torch.save(rnn10_cnn8_loss_weight_new, 'snapshots/TextCNN/layer_19_loss_weight_top1.pt')"
   ]
  },
  {
   "cell_type": "code",
   "execution_count": null,
   "metadata": {
    "collapsed": true
   },
   "outputs": [],
   "source": [
    "layer_18_loss_weight_top3 = torch.load('snapshots/TextCNN/layer_18_loss_weight_top3.pt')\n",
    "layer_19_loss_weight_top3 = torch.load('snapshots/TextCNN/layer_19_loss_weight_top3.pt')"
   ]
  },
  {
   "cell_type": "code",
   "execution_count": null,
   "metadata": {
    "collapsed": true
   },
   "outputs": [],
   "source": [
    "print layer_18_loss_weight_top3.mean()\n",
    "layer_19_loss_weight_top3.mean()"
   ]
  }
 ],
 "metadata": {
  "kernelspec": {
   "display_name": "Python 2",
   "language": "python",
   "name": "python2"
  },
  "language_info": {
   "codemirror_mode": {
    "name": "ipython",
    "version": 2
   },
   "file_extension": ".py",
   "mimetype": "text/x-python",
   "name": "python",
   "nbconvert_exporter": "python",
   "pygments_lexer": "ipython2",
   "version": "2.7.12"
  }
 },
 "nbformat": 4,
 "nbformat_minor": 2
}

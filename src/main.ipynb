{
 "cells": [
  {
   "cell_type": "code",
   "execution_count": 2,
   "metadata": {
    "collapsed": true
   },
   "outputs": [],
   "source": [
    "import torch\n",
    "import torch.nn.functional as F\n",
    "from torch.autograd import Variable"
   ]
  },
  {
   "cell_type": "code",
   "execution_count": null,
   "metadata": {
    "collapsed": true
   },
   "outputs": [],
   "source": [
    "def train(**args):\n",
    "    # 转换args到opt中\n",
    "    \n",
    "    if opt['cuda']:\n",
    "        model.cuda()\n",
    "        \n",
    "    optimizer = torch.optim.Adadelta(model.parameters(), lr=opt['lr'], rho=opt['rho'])\n",
    "    \n",
    "    steps = 0\n",
    "    model.train()\n",
    "    for epoch in range(1, opt['epochs']+1):\n",
    "        for i, batch in enumerate(train_iter, 0):\n",
    "            text, label = batch\n",
    "            text, label = Variable(text), Variable(label)\n",
    "            if opt['cuda']:\n",
    "                text, label = text.cuda(), label.cuda()\n",
    "                \n",
    "            optimizer.zero_grad()\n",
    "            logit = model(text)\n",
    "            \n",
    "            loss = pairDistanceLoss(logit, label)\n",
    "            loss.backward()\n",
    "            optimizer.step()\n",
    "            \n",
    "            steps +=1 \n",
    "            if steps % opt['log_interval'] == 0:\n",
    "                corrects = ((logit.data > opt['threshold']) == label.data).sum()\n",
    "                accuracy = 100.0 * corrects / (opt['batch_size'] * opt['class_num'])\n",
    "                print 'Batch[{}] - loss: {:.6f}  acc: {:.4f}%({}/{})'.format( \\\n",
    "                            steps, loss.data[0], accuracy, \\\n",
    "                            corrects, opt['batch_size'] * opt['class_num'])\n",
    "            \n",
    "            if steps % opt['test_interval'] == 0:\n",
    "                eval(val_iter, model, opt)\n",
    "            \n",
    "            if steps % opt['save_interval'] == 0:\n",
    "                save_model(model)"
   ]
  }
 ],
 "metadata": {
  "kernelspec": {
   "display_name": "Python 2",
   "language": "python",
   "name": "python2"
  },
  "language_info": {
   "codemirror_mode": {
    "name": "ipython",
    "version": 2
   },
   "file_extension": ".py",
   "mimetype": "text/x-python",
   "name": "python",
   "nbconvert_exporter": "python",
   "pygments_lexer": "ipython2",
   "version": "2.7.12"
  }
 },
 "nbformat": 4,
 "nbformat_minor": 2
}

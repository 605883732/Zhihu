{
 "cells": [
  {
   "cell_type": "code",
   "execution_count": 1,
   "metadata": {
    "collapsed": true
   },
   "outputs": [],
   "source": [
    "import torch\n",
    "import numpy as np\n",
    "from utils import get_score, normalize\n",
    "result_dir='/home/dyj/'\n",
    "sigmoid = torch.sigmoid"
   ]
  },
  {
   "cell_type": "code",
   "execution_count": 2,
   "metadata": {
    "collapsed": true
   },
   "outputs": [],
   "source": [
    "label = torch.load('/home/dyj/label.pt')"
   ]
  },
  {
   "cell_type": "code",
   "execution_count": null,
   "metadata": {
    "collapsed": true
   },
   "outputs": [],
   "source": [
    "# cnn1 = torch.load('/home/dyj/TextCNN1_2017-07-27#10:15:20_res.pt')\n",
    "# cnn1_loss_weight = torch.load(result_dir+'TextCNN1_loss_weight.pt')"
   ]
  },
  {
   "cell_type": "code",
   "execution_count": null,
   "metadata": {
    "collapsed": true
   },
   "outputs": [],
   "source": [
    "# rnn1 = torch.load('/home/dyj/RNN1_2017-07-27#10:48:05_res.pt')\n",
    "# rnn1_loss_weight = torch.load(result_dir+'RNN1_loss_weight.pt')"
   ]
  },
  {
   "cell_type": "code",
   "execution_count": null,
   "metadata": {
    "collapsed": true
   },
   "outputs": [],
   "source": [
    "# rcnn1 = torch.load(result_dir + 'RCNN1_2017-07-27#11:01:07_res.pt')\n",
    "# rcnn1_loss_weight = torch.load('/home/dyj/RCNN1_loss_weight.pt')"
   ]
  },
  {
   "cell_type": "code",
   "execution_count": null,
   "metadata": {
    "collapsed": true
   },
   "outputs": [],
   "source": [
    "# rcnncha = torch.load('/home/dyj/RCNNcha_2017-07-27#16:19:23_res.pt')\n",
    "# rcnncha_loss_weight = torch.load(result_dir+'RCNNcha_loss_weight.pt')"
   ]
  },
  {
   "cell_type": "code",
   "execution_count": null,
   "metadata": {
    "collapsed": true
   },
   "outputs": [],
   "source": [
    "# fasttext1_char = torch.load('snapshots/FastText/layer_1_cal_res_char.pt')\n",
    "# fasttext1_loss_weight = torch.load('snapshots/FastText/layer_2_loss_weight_char.pt')"
   ]
  },
  {
   "cell_type": "code",
   "execution_count": null,
   "metadata": {
    "collapsed": true
   },
   "outputs": [],
   "source": [
    "# fasttext4 = torch.load(result_dir + 'FastText4_2017-07-28#15:14:47_res.pt')\n",
    "# fasttext4_loss_weight = torch.load('/home/dyj/FastText4_loss_weight.pt')"
   ]
  },
  {
   "cell_type": "code",
   "execution_count": null,
   "metadata": {
    "collapsed": true
   },
   "outputs": [],
   "source": [
    "# fasttext10 = torch.load('/home/dyj/FastText10_res.pt')\n",
    "# fasttext10_loss_weight = torch.load('/home/dyj/FastText10_loss_weight.pt')"
   ]
  },
  {
   "cell_type": "code",
   "execution_count": null,
   "metadata": {
    "collapsed": true
   },
   "outputs": [],
   "source": [
    "# rnn10_cnn7 = torch.load('snapshots/TextCNN/layer_17_cal_res_3.pt')\n",
    "# rnn10_cnn7_loss_weight = torch.load('snapshots/TextCNN/layer_18_loss_weight_3.pt')"
   ]
  },
  {
   "cell_type": "code",
   "execution_count": null,
   "metadata": {
    "collapsed": true
   },
   "outputs": [],
   "source": [
    "# cnn4 = torch.load('snapshots/TextCNN/layer_4_cal_res_3.pt')\n",
    "# cnn4_loss_weight = torch.load('snapshots/TextCNN/layer_5_loss_weight_3.pt')"
   ]
  },
  {
   "cell_type": "code",
   "execution_count": 3,
   "metadata": {
    "collapsed": true
   },
   "outputs": [],
   "source": [
    "def get_loss_weight(logit, label):\n",
    "    class_num = logit.size(1)\n",
    "    predict_label_list = [list(ii) for ii in logit.topk(5, 1)[1]]\n",
    "    marked_label_list = [list(np.where(ii.numpy()==1)[0]) for ii in label]\n",
    "    sample_per_class = torch.zeros(class_num)\n",
    "    error_per_class = torch.zeros(class_num)\n",
    "    for predict_labels, marked_labels in zip(predict_label_list, marked_label_list):\n",
    "        for true_label in marked_labels:\n",
    "            sample_per_class[true_label] += 1\n",
    "            if true_label not in predict_labels:\n",
    "                error_per_class[true_label] += 1\n",
    "    return error_per_class / sample_per_class"
   ]
  },
  {
   "cell_type": "code",
   "execution_count": 4,
   "metadata": {
    "collapsed": true
   },
   "outputs": [],
   "source": [
    "rnn10 = torch.load(result_dir + 'RNN10_cal_res.pt')\n",
    "rnn10_loss_weight = torch.load('snapshots/RNN/layer_11_loss_weight_3.pt')"
   ]
  },
  {
   "cell_type": "code",
   "execution_count": 5,
   "metadata": {
    "collapsed": true
   },
   "outputs": [],
   "source": [
    "logit1 = sigmoid(rnn10/10) * torch.sqrt(1-rnn10_loss_weight+rnn10_loss_weight.mean()).expand_as(rnn10)\n",
    "# get_score(logit1, label)\n",
    "# 0.42681"
   ]
  },
  {
   "cell_type": "code",
   "execution_count": null,
   "metadata": {
    "collapsed": true
   },
   "outputs": [],
   "source": [
    "# rnn10_cnn5 = torch.load('snapshots/TextCNN/layer_15_cal_res_char.pt')\n",
    "# cnn5_char = rnn10_cnn5 - rnn10\n",
    "# cnn5_char = torch.load(result_dir + 'TextCNN5_char_top5.pt')\n",
    "# cnn5_char_loss_weight = get_loss_weight(cnn5_char, label)"
   ]
  },
  {
   "cell_type": "code",
   "execution_count": null,
   "metadata": {
    "collapsed": true
   },
   "outputs": [],
   "source": [
    "# logit2 = sigmoid(cnn5_char/5) * torch.sqrt(1-cnn5_char_loss_weight+cnn5_char_loss_weight.mean()).expand_as(cnn5_char)\n",
    "# get_score(logit2, label)\n",
    "# 0.41667"
   ]
  },
  {
   "cell_type": "code",
   "execution_count": 6,
   "metadata": {
    "collapsed": true
   },
   "outputs": [],
   "source": [
    "cnn10_char = torch.load('snapshots/TextCNN/layer_10_cal_res_char.pt')\n",
    "cnn10_char_loss_weight = get_loss_weight(cnn10_char, label)"
   ]
  },
  {
   "cell_type": "code",
   "execution_count": 7,
   "metadata": {
    "collapsed": true
   },
   "outputs": [],
   "source": [
    "logit2 = sigmoid(cnn10_char/10) * torch.sqrt(1-cnn10_char_loss_weight+cnn10_char_loss_weight.mean()).expand_as(cnn10_char)\n",
    "# get_score(logit2, label)\n",
    "# 0.41843"
   ]
  },
  {
   "cell_type": "code",
   "execution_count": null,
   "metadata": {
    "collapsed": true
   },
   "outputs": [],
   "source": [
    "cnn10_top1 = torch.load('snapshots/TextCNN/layer_10_cal_res_top1.pt')\n",
    "cnn10_top1_loss_weight = get_loss_weight(cnn10_top1, label)"
   ]
  },
  {
   "cell_type": "code",
   "execution_count": null,
   "metadata": {
    "collapsed": true
   },
   "outputs": [],
   "source": [
    "logit3 = sigmoid(cnn10_top1/10) * torch.sqrt(1-cnn10_top1_loss_weight+cnn10_top1_loss_weight.mean()).expand_as(cnn10_top1)\n",
    "# get_score(logit3, label)\n",
    "# 0.42705"
   ]
  },
  {
   "cell_type": "code",
   "execution_count": null,
   "metadata": {
    "collapsed": true
   },
   "outputs": [],
   "source": [
    "cnn8_top1_char = torch.load('snapshots/TextCNN/layer_8_cal_res_top1_char.pt')\n",
    "cnn8_top1_char_loss_weight = get_loss_weight(cnn8_top1_char, label)"
   ]
  },
  {
   "cell_type": "code",
   "execution_count": null,
   "metadata": {},
   "outputs": [],
   "source": [
    "logit4 = sigmoid(cnn8_top1_char/8) * torch.sqrt(1-cnn8_top1_char_loss_weight+cnn8_top1_char_loss_weight.mean()).expand_as(cnn8_top1_char)\n",
    "# get_score(logit4, label)\n",
    "# 0.41815"
   ]
  },
  {
   "cell_type": "code",
   "execution_count": null,
   "metadata": {
    "collapsed": true
   },
   "outputs": [],
   "source": [
    "cnn4 = torch.load(result_dir + 'TextCNN4_cal_res.pt')\n",
    "cnn4_loss_weight = torch.load('snapshots/TextCNN/layer_5_loss_weight_3.pt')"
   ]
  },
  {
   "cell_type": "code",
   "execution_count": null,
   "metadata": {
    "collapsed": true
   },
   "outputs": [],
   "source": [
    "logit5 = sigmoid(cnn4/4) * torch.sqrt(1-cnn4_loss_weight+cnn4_loss_weight.mean()).expand_as(cnn4)\n",
    "# get_score(logit5, label)\n",
    "# 0.42331"
   ]
  },
  {
   "cell_type": "code",
   "execution_count": null,
   "metadata": {
    "collapsed": true
   },
   "outputs": [],
   "source": [
    "fasttext10 = torch.load('/home/dyj/FastText10_res.pt')\n",
    "fasttext10_loss_weight = torch.load('/home/dyj/FastText10_loss_weight.pt')"
   ]
  },
  {
   "cell_type": "code",
   "execution_count": null,
   "metadata": {
    "collapsed": true
   },
   "outputs": [],
   "source": [
    "logit6 = sigmoid(fasttext10/10) * torch.sqrt(1-fasttext10_loss_weight+fasttext10_loss_weight.mean()).expand_as(fasttext10)\n",
    "# get_score(logit6, label)\n",
    "# 0.41932"
   ]
  },
  {
   "cell_type": "code",
   "execution_count": 8,
   "metadata": {
    "collapsed": true
   },
   "outputs": [],
   "source": [
    "cnn1_word_shuffle = torch.load('snapshots/TextCNN/layer_1_cal_res_augment.pt')\n",
    "cnn1_word_shuffle_loss_weight = torch.load('snapshots/TextCNN/layer_2_loss_weight_augment.pt')"
   ]
  },
  {
   "cell_type": "code",
   "execution_count": 9,
   "metadata": {},
   "outputs": [
    {
     "data": {
      "text/plain": [
       "(1.4278054949663341, 0.5840333022868975, 0.41448945083824457)"
      ]
     },
     "execution_count": 9,
     "metadata": {},
     "output_type": "execute_result"
    }
   ],
   "source": [
    "logit7 = sigmoid(cnn1_word_shuffle) * torch.sqrt(1-cnn1_word_shuffle_loss_weight+cnn1_word_shuffle_loss_weight.mean()).expand_as(cnn1_word_shuffle)\n",
    "# get_score(logit7, label)\n",
    "# 0.41449"
   ]
  },
  {
   "cell_type": "code",
   "execution_count": null,
   "metadata": {},
   "outputs": [],
   "source": [
    "logit = logit1*0.23+logit2*0.146+logit3*0.16+logit4*0.1423+logit5*0.1024+logit6*0.0183+logit7*0.0695\n",
    "get_score(logit, label)"
   ]
  },
  {
   "cell_type": "code",
   "execution_count": 10,
   "metadata": {},
   "outputs": [
    {
     "data": {
      "text/plain": [
       "(1.4854828281018575, 0.6066786864794196, 0.43075583058936806)"
      ]
     },
     "execution_count": 10,
     "metadata": {},
     "output_type": "execute_result"
    }
   ],
   "source": [
    "logit = logit1*0.32+logit2*0.2\n",
    "get_score(logit, label)"
   ]
  },
  {
   "cell_type": "code",
   "execution_count": 25,
   "metadata": {},
   "outputs": [
    {
     "data": {
      "text/plain": [
       "(1.4860091651974103, 0.6070304511417398, 0.43097742006827744)"
      ]
     },
     "execution_count": 25,
     "metadata": {},
     "output_type": "execute_result"
    }
   ],
   "source": [
    "logit = logit1*0.31+logit2*0.21+logit7*0.05\n",
    "get_score(logit, label)"
   ]
  },
  {
   "cell_type": "code",
   "execution_count": 38,
   "metadata": {
    "collapsed": true
   },
   "outputs": [],
   "source": [
    "cnn1_char = torch.load('snapshots/TextCNN/layer_1_cal_res_top1_char.pt')\n",
    "cnn1_char_loss_weight = get_loss_weight(cnn1_char, label)"
   ]
  },
  {
   "cell_type": "code",
   "execution_count": 39,
   "metadata": {},
   "outputs": [
    {
     "data": {
      "text/plain": [
       "(1.3904943267159242, 0.5678720658981962, 0.4032048797967101)"
      ]
     },
     "execution_count": 39,
     "metadata": {},
     "output_type": "execute_result"
    }
   ],
   "source": [
    "logit4_ = sigmoid(cnn1_char) * torch.sqrt(1-cnn1_char_loss_weight+cnn1_char_loss_weight.mean()).expand_as(cnn1_char)\n",
    "get_score(logit4_, label)\n",
    "# 0.4032"
   ]
  },
  {
   "cell_type": "code",
   "execution_count": 41,
   "metadata": {
    "collapsed": true
   },
   "outputs": [],
   "source": [
    "rnn1 = torch.load('snapshots/RNN/layer_1_cal_res_3.pt')\n",
    "rnn1_loss_weight = torch.load('snapshots/pshots/RNN/layer_2_loss_weight_3.pt')"
   ]
  },
  {
   "cell_type": "code",
   "execution_count": 43,
   "metadata": {},
   "outputs": [
    {
     "data": {
      "text/plain": [
       "(1.4232794130377397, 0.5803105782897117, 0.41223209480126921)"
      ]
     },
     "execution_count": 43,
     "metadata": {},
     "output_type": "execute_result"
    }
   ],
   "source": [
    "logit1_ = sigmoid(rnn1) * torch.sqrt(1-rnn1_loss_weight+rnn1_loss_weight.mean()).expand_as(rnn1)\n",
    "# get_score(logit1_, label)\n",
    "# 0.41223"
   ]
  },
  {
   "cell_type": "code",
   "execution_count": 49,
   "metadata": {},
   "outputs": [
    {
     "data": {
      "text/plain": [
       "(1.4553865326191719, 0.5937303289498045, 0.42169733750541838)"
      ]
     },
     "execution_count": 49,
     "metadata": {},
     "output_type": "execute_result"
    }
   ],
   "source": [
    "# rnn1 + cnn1_char\n",
    "logit = logit1_*1.2 + logit4_\n",
    "get_score(logit, label)\n",
    "# 0.42170"
   ]
  },
  {
   "cell_type": "code",
   "execution_count": 55,
   "metadata": {},
   "outputs": [
    {
     "data": {
      "text/plain": [
       "(1.4521791365583794, 0.5929328058287547, 0.421025681851182)"
      ]
     },
     "execution_count": 55,
     "metadata": {},
     "output_type": "execute_result"
    }
   ],
   "source": [
    "# rnn1 + cnn1_augment\n",
    "logit = logit1_ + logit7*1.2\n",
    "get_score(logit, label)\n",
    "# 0.42103"
   ]
  },
  {
   "cell_type": "code",
   "execution_count": 64,
   "metadata": {},
   "outputs": [
    {
     "data": {
      "text/plain": [
       "(1.4804827055125227, 0.6044712564122283, 0.42922254277096034)"
      ]
     },
     "execution_count": 64,
     "metadata": {},
     "output_type": "execute_result"
    }
   ],
   "source": [
    "# rnn10 + cnn1_char\n",
    "logit = logit1*4 + logit4_ \n",
    "get_score(logit, label)\n",
    "# 0.42922"
   ]
  },
  {
   "cell_type": "code",
   "execution_count": 71,
   "metadata": {},
   "outputs": [
    {
     "data": {
      "text/plain": [
       "(1.4737875751506517, 0.6018906994562602, 0.42735863515522943)"
      ]
     },
     "execution_count": 71,
     "metadata": {},
     "output_type": "execute_result"
    }
   ],
   "source": [
    "# rnn10 + cnn1_augment\n",
    "logit = logit1*5 + logit7\n",
    "get_score(logit, label)\n",
    "# 0.42736x"
   ]
  },
  {
   "cell_type": "code",
   "execution_count": null,
   "metadata": {
    "collapsed": true
   },
   "outputs": [],
   "source": [
    "%cd utils\n",
    "from resmat import search_model_weight"
   ]
  },
  {
   "cell_type": "code",
   "execution_count": null,
   "metadata": {
    "collapsed": true
   },
   "outputs": [],
   "source": [
    "models = [logit1, logit2, logit3, logit4, logit5]\n",
    "logit = torch.stack(models, 2)"
   ]
  },
  {
   "cell_type": "code",
   "execution_count": null,
   "metadata": {
    "collapsed": true
   },
   "outputs": [],
   "source": [
    "init_weight = torch.Tensor([0.4, 0.18, 0.22, 0.1, 0.1])"
   ]
  },
  {
   "cell_type": "code",
   "execution_count": null,
   "metadata": {
    "collapsed": true,
    "scrolled": true
   },
   "outputs": [],
   "source": [
    "cur_weight = torch.load('../snapshots/Stack/model_weight.pt')\n",
    "cur_weight"
   ]
  },
  {
   "cell_type": "code",
   "execution_count": null,
   "metadata": {
    "collapsed": true
   },
   "outputs": [],
   "source": [
    "search_model_weight(logit, label, init_weight, 10, 0.001, '../snapshots/Stack/model_weight.pt')"
   ]
  },
  {
   "cell_type": "code",
   "execution_count": null,
   "metadata": {
    "collapsed": true
   },
   "outputs": [],
   "source": [
    "layer_11 = torch.load('snapshots/TextCNN/layer_11_cal_res_char.pt')\n",
    "layer_12 = torch.load('snapshots/TextCNN/layer_12_cal_res_char.pt')"
   ]
  },
  {
   "cell_type": "code",
   "execution_count": null,
   "metadata": {
    "collapsed": true
   },
   "outputs": [],
   "source": [
    "layer_12_weighted = (layer_11 / 11 * 5.5 + (layer_12-layer_11)) / 6.5 * 12\n",
    "layer_12_loss_weight = get_loss_weight(layer_12_weighted, label)"
   ]
  },
  {
   "cell_type": "code",
   "execution_count": null,
   "metadata": {
    "collapsed": true
   },
   "outputs": [],
   "source": [
    "print get_score(layer_12_weighted, label)\n",
    "get_score(sigmoid(layer_12_weighted/12) * torch.sqrt(1-layer_12_loss_weight+layer_12_loss_weight.mean()).expand_as(layer_12_weighted), label)"
   ]
  },
  {
   "cell_type": "code",
   "execution_count": null,
   "metadata": {
    "collapsed": true
   },
   "outputs": [],
   "source": [
    "torch.save(layer_12_weighted, 'snapshots/TextCNN/layer_12_weighted_cal_res_char.pt')\n",
    "torch.save(layer_12_loss_weight, 'snapshots/TextCNN/layer_13_weighted_loss_weight_char.pt')"
   ]
  },
  {
   "cell_type": "code",
   "execution_count": null,
   "metadata": {
    "collapsed": true
   },
   "outputs": [],
   "source": [
    "rnn_cnn2_test = torch.load('results/RNN10_CNN2_test_res.pt')\n",
    "cnn3_test = torch.load('results/CNN3_2017-08-07#12:41:45_test_res.pt')\n",
    "cnn2_test = torch.load('results/CNN2_2017-08-07#12:53:50_test_res.pt')\n",
    "torch.save(rnn_cnn2_test+cnn3_test+cnn2_test, '/home/dyj/RNN10_CNN7_test_res.pt')\n",
    "torch.save(rnn_cnn2_test+cnn3_test+cnn2_test, 'results/RNN10_CNN7_test_res.pt')"
   ]
  },
  {
   "cell_type": "code",
   "execution_count": null,
   "metadata": {
    "collapsed": true
   },
   "outputs": [],
   "source": [
    "logit = sigmoid(cnn1) * torch.sqrt(1-cnn1_loss_weight+cnn1_loss_weight.mean()).expand_as(cnn1) * 0 + \\\n",
    "        sigmoid(rnn1) * torch.sqrt(1-rnn1_loss_weight+rnn1_loss_weight.mean()).expand_as(rnn1) * 0. + \\\n",
    "        sigmoid(rcnn1) * torch.sqrt(1-rcnn1_loss_weight+rcnn1_loss_weight.mean()).expand_as(rcnn1) * 0 + \\\n",
    "        sigmoid(rcnncha) * torch.sqrt(1-rcnncha_loss_weight+rcnncha_loss_weight.mean()).expand_as(rcnncha) * 0 + \\\n",
    "        sigmoid(fasttext1_char) * torch.sqrt(1-fasttext1_loss_weight+fasttext1_loss_weight.mean()).expand_as(fasttext1_char) * 0 + \\\n",
    "        sigmoid(fasttext4/4) * torch.sqrt(1-fasttext4_loss_weight+fasttext4_loss_weight.mean()).expand_as(fasttext4) * 0 + \\\n",
    "        sigmoid(fasttext10/10) * torch.sqrt(1-fasttext10_loss_weight+fasttext10_loss_weight.mean()).expand_as(fasttext10) * 0.0469 + \\\n",
    "        sigmoid(rnn10_cnn7/17) * torch.sqrt(1-rnn10_cnn7_loss_weight+rnn10_cnn7_loss_weight.mean()).expand_as(rnn10_cnn7) * 0.6604 + \\\n",
    "        sigmoid(cnn4/4) * torch.sqrt(1-cnn4_loss_weight+cnn4_loss_weight.mean()).expand_as(cnn4) * 0.1536"
   ]
  },
  {
   "cell_type": "code",
   "execution_count": null,
   "metadata": {
    "collapsed": true
   },
   "outputs": [],
   "source": [
    "get_loss_weight??\n",
    "rnn10_cnn8_loss_weight_new = get_loss_weight(rnn10_cnn8, label)"
   ]
  },
  {
   "cell_type": "code",
   "execution_count": null,
   "metadata": {
    "collapsed": true
   },
   "outputs": [],
   "source": [
    "torch.save(rnn10_cnn8_loss_weight_new, 'snapshots/TextCNN/layer_19_loss_weight_top1.pt')"
   ]
  },
  {
   "cell_type": "code",
   "execution_count": null,
   "metadata": {
    "collapsed": true
   },
   "outputs": [],
   "source": [
    "layer_18_loss_weight_top3 = torch.load('snapshots/TextCNN/layer_18_loss_weight_top3.pt')\n",
    "layer_19_loss_weight_top3 = torch.load('snapshots/TextCNN/layer_19_loss_weight_top3.pt')"
   ]
  },
  {
   "cell_type": "code",
   "execution_count": null,
   "metadata": {
    "collapsed": true
   },
   "outputs": [],
   "source": [
    "print layer_18_loss_weight_top3.mean()\n",
    "layer_19_loss_weight_top3.mean()"
   ]
  }
 ],
 "metadata": {
  "kernelspec": {
   "display_name": "Python 2",
   "language": "python",
   "name": "python2"
  },
  "language_info": {
   "codemirror_mode": {
    "name": "ipython",
    "version": 2
   },
   "file_extension": ".py",
   "mimetype": "text/x-python",
   "name": "python",
   "nbconvert_exporter": "python",
   "pygments_lexer": "ipython2",
   "version": "2.7.12"
  }
 },
 "nbformat": 4,
 "nbformat_minor": 2
}

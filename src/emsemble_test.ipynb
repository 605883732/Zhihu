{
 "cells": [
  {
   "cell_type": "code",
   "execution_count": 1,
   "metadata": {
    "collapsed": true
   },
   "outputs": [],
   "source": [
    "import torch\n",
    "from utils import get_score\n",
    "result_dir='/home/dyj/'\n",
    "sigmoid = torch.sigmoid"
   ]
  },
  {
   "cell_type": "code",
   "execution_count": 2,
   "metadata": {
    "collapsed": true
   },
   "outputs": [],
   "source": [
    "label = torch.load('/home/dyj/label.pt')"
   ]
  },
  {
   "cell_type": "code",
   "execution_count": null,
   "metadata": {
    "collapsed": true
   },
   "outputs": [],
   "source": [
    "cnn1 = torch.load('/home/dyj/TextCNN1_2017-07-27#10:15:20_res.pt')\n",
    "cnn1_loss_weight = torch.load(result_dir+'TextCNN1_loss_weight.pt')"
   ]
  },
  {
   "cell_type": "code",
   "execution_count": null,
   "metadata": {
    "collapsed": true
   },
   "outputs": [],
   "source": [
    "rnn1 = torch.load('/home/dyj/RNN1_2017-07-27#10:48:05_res.pt')\n",
    "rnn1_loss_weight = torch.load(result_dir+'RNN1_loss_weight.pt')"
   ]
  },
  {
   "cell_type": "code",
   "execution_count": null,
   "metadata": {
    "collapsed": true
   },
   "outputs": [],
   "source": [
    "rcnn1 = torch.load(result_dir + 'RCNN1_2017-07-27#11:01:07_res.pt')\n",
    "rcnn1_loss_weight = torch.load('/home/dyj/RCNN1_loss_weight.pt')"
   ]
  },
  {
   "cell_type": "code",
   "execution_count": null,
   "metadata": {
    "collapsed": true
   },
   "outputs": [],
   "source": [
    "rcnncha = torch.load('/home/dyj/RCNNcha_2017-07-27#16:19:23_res.pt')\n",
    "rcnncha_loss_weight = torch.load(result_dir+'RCNNcha_loss_weight.pt')"
   ]
  },
  {
   "cell_type": "code",
   "execution_count": null,
   "metadata": {
    "collapsed": true
   },
   "outputs": [],
   "source": [
    "fasttext4 = torch.load(result_dir + 'FastText4_2017-07-28#15:14:47_res.pt')\n",
    "fasttext4_loss_weight = torch.load('/home/dyj/FastText4_loss_weight.pt')"
   ]
  },
  {
   "cell_type": "code",
   "execution_count": 8,
   "metadata": {
    "collapsed": true
   },
   "outputs": [],
   "source": [
    "fasttext10 = torch.load('/home/dyj/FastText10_res.pt')\n",
    "fasttext10_loss_weight = torch.load('/home/dyj/FastText10_loss_weight.pt')"
   ]
  },
  {
   "cell_type": "code",
   "execution_count": 5,
   "metadata": {
    "collapsed": true
   },
   "outputs": [],
   "source": [
    "rnn10 = torch.load('/home/dyj/RNN10_cal_res.pt')\n",
    "rnn10_loss_weight = torch.load('/home/dyj/RNN10_loss_weight.pt')"
   ]
  },
  {
   "cell_type": "code",
   "execution_count": 9,
   "metadata": {
    "collapsed": true
   },
   "outputs": [],
   "source": [
    "cnn3 = torch.load('/home/dyj/TextCNN3_res.pt')\n",
    "cnn3_loss_weight = torch.load('/home/dyj/TextCNN3_loss_weight.pt')"
   ]
  },
  {
   "cell_type": "code",
   "execution_count": null,
   "metadata": {
    "collapsed": true
   },
   "outputs": [],
   "source": [
    "logit = sigmoid(cnn1) * torch.sqrt(1-cnn1_loss_weight+cnn1_loss_weight.mean()).expand_as(cnn1) * 0.0273 + \\\n",
    "        sigmoid(rnn1) * torch.sqrt(1-rnn1_loss_weight+rnn1_loss_weight.mean()).expand_as(rnn1) * 0.0369 + \\\n",
    "        sigmoid(rcnn1) * torch.sqrt(1-rcnn1_loss_weight+rcnn1_loss_weight.mean()).expand_as(rcnn1) * 0.0311 + \\\n",
    "        sigmoid(rcnncha) * torch.sqrt(1-rcnncha_loss_weight+rcnncha_loss_weight.mean()).expand_as(rcnncha) * 0.0389 + \\\n",
    "        sigmoid(fasttext4/4) * torch.sqrt(1-fasttext4_loss_weight+fasttext4_loss_weight.mean()).expand_as(fasttext4) * -0.0128 + \\\n",
    "        sigmoid(fasttext10/10) * torch.sqrt(1-fasttext10_loss_weight+fasttext10_loss_weight.mean()).expand_as(fasttext10) * 0.1172 + \\\n",
    "        sigmoid(rnn10/10) * torch.sqrt(1-rnn10_loss_weight+rnn10_loss_weight.mean()).expand_as(rnn10) * 0.4853 + \\\n",
    "        sigmoid(cnn3/3) * torch.sqrt(1-cnn3_loss_weight+cnn3_loss_weight.mean()).expand_as(cnn3) * 0.1760"
   ]
  },
  {
   "cell_type": "code",
   "execution_count": 16,
   "metadata": {
    "collapsed": true
   },
   "outputs": [],
   "source": [
    "# fasttext1 = torch.load('/home/dyj/FastText1_2017-07-29#10:31:43_res.pt')\n",
    "# fasttext1_char = torch.load('snapshots/FastText/layer_1_cal_res_char.pt')\n",
    "fasttext1_char_loss_weight = torch.load('snapshots/FastText/layer_2_loss_weight_char.pt')"
   ]
  },
  {
   "cell_type": "code",
   "execution_count": 13,
   "metadata": {
    "collapsed": true
   },
   "outputs": [],
   "source": [
    "fasttext8 = torch.load('snapshots/FastText/layer_8_cal_res_3.pt')\n",
    "fasttext9 = torch.load('snapshots/FastText/layer_9_cal_res_3.pt')"
   ]
  },
  {
   "cell_type": "code",
   "execution_count": 20,
   "metadata": {},
   "outputs": [
    {
     "data": {
      "text/plain": [
       "(1.4799893259101531, 0.6044883461933936, 0.42918967757542992)"
      ]
     },
     "execution_count": 20,
     "metadata": {},
     "output_type": "execute_result"
    }
   ],
   "source": [
    "logit = sigmoid(fasttext10/10) * torch.sqrt(1-fasttext10_loss_weight+fasttext10_loss_weight.mean()).expand_as(fasttext10) * 0.0659 + \\\n",
    "        sigmoid(rnn10/10) * torch.sqrt(1-rnn10_loss_weight+rnn10_loss_weight.mean()).expand_as(rnn10) * 0.5685 + \\\n",
    "        sigmoid(cnn3/3) * torch.sqrt(1-cnn3_loss_weight+cnn3_loss_weight.mean()).expand_as(cnn3) * 0.1717 + \\\n",
    "        sigmoid(fasttext1_char) * torch.sqrt(1-fasttext1_char_loss_weight+fasttext1_char_loss_weight.mean()).expand_as(fasttext1_char) * 0.0924\n",
    "get_score(logit, label)"
   ]
  }
 ],
 "metadata": {
  "kernelspec": {
   "display_name": "Python 2",
   "language": "python",
   "name": "python2"
  },
  "language_info": {
   "codemirror_mode": {
    "name": "ipython",
    "version": 2
   },
   "file_extension": ".py",
   "mimetype": "text/x-python",
   "name": "python",
   "nbconvert_exporter": "python",
   "pygments_lexer": "ipython2",
   "version": "2.7.12"
  }
 },
 "nbformat": 4,
 "nbformat_minor": 2
}
